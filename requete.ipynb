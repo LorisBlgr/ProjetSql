{
 "metadata": {
  "language_info": {
   "codemirror_mode": {
    "name": "ipython",
    "version": 3
   },
   "file_extension": ".py",
   "mimetype": "text/x-python",
   "name": "python",
   "nbconvert_exporter": "python",
   "pygments_lexer": "ipython3",
   "version": "3.9.0-final"
  },
  "orig_nbformat": 2,
  "kernelspec": {
   "name": "python3",
   "display_name": "Python 3.9.0 64-bit",
   "metadata": {
    "interpreter": {
     "hash": "c3ffd66e303d1100a95e3f7456299e93a7890151db3dcb344daf7ba541d8c28a"
    }
   }
  }
 },
 "nbformat": 4,
 "nbformat_minor": 2,
 "cells": [
  {
   "cell_type": "code",
   "execution_count": 50,
   "metadata": {},
   "outputs": [],
   "source": [
    "import sqlite3\n",
    "conn = sqlite3.connect('imdb.db')"
   ]
  },
  {
   "cell_type": "code",
   "execution_count": 51,
   "metadata": {},
   "outputs": [
    {
     "output_type": "stream",
     "name": "stdout",
     "text": [
      "(1923775,)\n"
     ]
    }
   ],
   "source": [
    "#req3.sql\n",
    "#03.Combien y a-t-il de titres dans cette base de données ?\n",
    "c = conn.cursor()\n",
    "c.execute(\"SELECT COUNT(primaryName) FROM name_basics ;\")\n",
    "for row in c:\n",
    "    print(row)"
   ]
  },
  {
   "cell_type": "code",
   "execution_count": 52,
   "metadata": {},
   "outputs": [
    {
     "output_type": "stream",
     "name": "stdout",
     "text": [
      "(1972,)\n(2006,)\n"
     ]
    }
   ],
   "source": [
    "#req4.sql\n",
    "#04.En quelle année est sortie le film The Godfather ?\n",
    "c = conn.cursor()\n",
    "c.execute(\"SELECT startYear FROM title_basics WHERE primaryTitle='The Godfather';\")\n",
    "for row in c:\n",
    "    print(row)"
   ]
  },
  {
   "cell_type": "code",
   "execution_count": 53,
   "metadata": {},
   "outputs": [
    {
     "output_type": "stream",
     "name": "stdout",
     "text": [
      "(1941,)\n(1948,)\n(1978,)\n(1988,)\n"
     ]
    }
   ],
   "source": [
    "#req5.sql\n",
    "#05.En quelle année est sortie le premier film Superman ?\n",
    "c = conn.cursor()\n",
    "c.execute(\"SELECT startYear FROM title_basics WHERE primaryTitle='Superman';\")\n",
    "for row in c:\n",
    "    print(row)"
   ]
  },
  {
   "cell_type": "code",
   "execution_count": 54,
   "metadata": {},
   "outputs": [
    {
     "output_type": "stream",
     "name": "stdout",
     "text": [
      "('Jaws',)\n"
     ]
    }
   ],
   "source": [
    "#req6.sql\n",
    "#06.Quel est le titre original du film 'Les dents de la mer' ?\n",
    "c = conn.cursor()\n",
    "c.execute(\"SELECT originalTitle FROM title_basics WHERE primaryTitle='Jaws';\")\n",
    "for row in c:\n",
    "    print(row)"
   ]
  },
  {
   "cell_type": "code",
   "execution_count": 55,
   "metadata": {},
   "outputs": [
    {
     "output_type": "stream",
     "name": "stdout",
     "text": [
      "('writer,director,producer',)\n"
     ]
    }
   ],
   "source": [
    "#req7.sql\n",
    "#07.Quel est le métier d’Olivier Nakache ?\n",
    "c = conn.cursor()\n",
    "c.execute(\"SELECT primaryProfession FROM name_basics WHERE primaryName='Olivier Nakache'\")\n",
    "for row in c:\n",
    "    print(row)"
   ]
  },
  {
   "cell_type": "code",
   "execution_count": 56,
   "metadata": {},
   "outputs": [
    {
     "output_type": "stream",
     "name": "stdout",
     "text": [
      "('Those Happy Days',)\n('The Intouchables',)\n('The Upside',)\n('Samba',)\n(\"C'est la vie!\",)\n('The Specials',)\n"
     ]
    }
   ],
   "source": [
    "#req8.sql\n",
    "#08.Quels sont les films d’Olivier Nakache ?\n",
    "c = conn.cursor()\n",
    "c.execute(\"SELECT primaryTitle FROM title_writers JOIN title_basics ON title_writers.tconst = title_basics.tconst WHERE writers=619923\")\n",
    "for row in c:\n",
    "    print(row)"
   ]
  },
  {
   "cell_type": "code",
   "execution_count": 57,
   "metadata": {},
   "outputs": [
    {
     "output_type": "stream",
     "name": "stdout",
     "text": [
      "(2328389, 'The Shawshank Redemption')\n"
     ]
    }
   ],
   "source": [
    "#req9.sql\n",
    "#09.Quel est le film ayant recueilli le plus de votes ?\n",
    "c = conn.cursor()\n",
    "c.execute(\"SELECT MAX(numVotes),primaryTitle FROM title_ratings JOIN title_basics ON title_ratings.tconst = title_basics.tconst;\")\n",
    "for row in c:\n",
    "    print(row)"
   ]
  },
  {
   "cell_type": "code",
   "execution_count": 58,
   "metadata": {},
   "outputs": [
    {
     "output_type": "stream",
     "name": "stdout",
     "text": [
      "(108,)\n"
     ]
    }
   ],
   "source": [
    "#req10.sql\n",
    "#10.Qui a écrit le scénario du film Taxi sorti en 1998 ?\n",
    "c = conn.cursor()\n",
    "c.execute(\"SELECT writers FROM title_writers WHERE tconst=152930 ;\")\n",
    "for row in c:\n",
    "    print(row)"
   ]
  },
  {
   "cell_type": "code",
   "execution_count": 49,
   "metadata": {},
   "outputs": [],
   "source": [
    "conn.close()"
   ]
  }
 ]
}