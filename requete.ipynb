{
 "metadata": {
  "language_info": {
   "codemirror_mode": {
    "name": "ipython",
    "version": 3
   },
   "file_extension": ".py",
   "mimetype": "text/x-python",
   "name": "python",
   "nbconvert_exporter": "python",
   "pygments_lexer": "ipython3",
   "version": "3.8.5-final"
  },
  "orig_nbformat": 2,
  "kernelspec": {
   "name": "python3",
   "display_name": "Python 3",
   "language": "python"
  }
 },
 "nbformat": 4,
 "nbformat_minor": 2,
 "cells": [
  {
   "cell_type": "code",
   "execution_count": 1,
   "metadata": {},
   "outputs": [],
   "source": [
    "import sqlite3\n",
    "conn = sqlite3.connect('imdb.db')"
   ]
  },
  {
   "cell_type": "code",
   "execution_count": 2,
   "metadata": {},
   "outputs": [
    {
     "output_type": "stream",
     "name": "stdout",
     "text": [
      "(1923775,)\n"
     ]
    }
   ],
   "source": [
    "#req3.sql\n",
    "#03.Combien y a-t-il de titres dans cette base de données ?\n",
    "c = conn.cursor()\n",
    "c.execute(\"SELECT COUNT(primaryName) FROM name_basics ;\")\n",
    "for row in c:\n",
    "    print(row)"
   ]
  },
  {
   "cell_type": "code",
   "execution_count": 37,
   "metadata": {},
   "outputs": [
    {
     "output_type": "stream",
     "name": "stdout",
     "text": [
      "(1972,)\n(2006,)\n"
     ]
    }
   ],
   "source": [
    "#req4.sql\n",
    "#04.En quelle année est sortie le film The Godfather ?\n",
    "c = conn.cursor()\n",
    "c.execute(\"SELECT startYear FROM title_basics WHERE primaryTitle='The Godfather';\")\n",
    "for row in c:\n",
    "    print(row)"
   ]
  },
  {
   "cell_type": "code",
   "execution_count": 38,
   "metadata": {},
   "outputs": [
    {
     "output_type": "stream",
     "name": "stdout",
     "text": [
      "(1941,)\n(1948,)\n(1978,)\n(1988,)\n"
     ]
    }
   ],
   "source": [
    "#req5.sql\n",
    "#05.En quelle année est sortie le premier film Superman ?\n",
    "c = conn.cursor()\n",
    "c.execute(\"SELECT startYear FROM title_basics WHERE primaryTitle='Superman';\")\n",
    "for row in c:\n",
    "    print(row)"
   ]
  },
  {
   "cell_type": "code",
   "execution_count": 39,
   "metadata": {},
   "outputs": [
    {
     "output_type": "stream",
     "name": "stdout",
     "text": [
      "('Jaws',)\n"
     ]
    }
   ],
   "source": [
    "#req6.sql\n",
    "#06.Quel est le titre original du film 'Les dents de la mer' ?\n",
    "c = conn.cursor()\n",
    "c.execute(\"SELECT originalTitle FROM title_basics WHERE primaryTitle='Jaws';\")\n",
    "for row in c:\n",
    "    print(row)"
   ]
  },
  {
   "cell_type": "code",
   "execution_count": 40,
   "metadata": {},
   "outputs": [
    {
     "output_type": "stream",
     "name": "stdout",
     "text": [
      "('writer,director,producer',)\n"
     ]
    }
   ],
   "source": [
    "#req7.sql\n",
    "#07.Quel est le métier d’Olivier Nakache ?\n",
    "c = conn.cursor()\n",
    "c.execute(\"SELECT primaryProfession FROM name_basics WHERE primaryName='Olivier Nakache'\")\n",
    "for row in c:\n",
    "    print(row)"
   ]
  },
  {
   "cell_type": "code",
   "execution_count": 41,
   "metadata": {},
   "outputs": [
    {
     "output_type": "stream",
     "name": "stdout",
     "text": [
      "('Those Happy Days',)\n('The Intouchables',)\n('The Upside',)\n('Samba',)\n(\"C'est la vie!\",)\n('The Specials',)\n"
     ]
    }
   ],
   "source": [
    "#req8.sql\n",
    "#08.Quels sont les films d’Olivier Nakache ?\n",
    "c = conn.cursor()\n",
    "c.execute(\"SELECT primaryTitle FROM title_writers JOIN title_basics ON title_writers.tconst = title_basics.tconst WHERE writers=619923\")\n",
    "for row in c:\n",
    "    print(row)"
   ]
  },
  {
   "cell_type": "code",
   "execution_count": 42,
   "metadata": {},
   "outputs": [
    {
     "output_type": "stream",
     "name": "stdout",
     "text": [
      "(2328389, 'The Shawshank Redemption')\n"
     ]
    }
   ],
   "source": [
    "#req9.sql\n",
    "#09.Quel est le film ayant recueilli le plus de votes ?\n",
    "c = conn.cursor()\n",
    "c.execute(\"SELECT MAX(numVotes),primaryTitle FROM title_ratings JOIN title_basics ON title_ratings.tconst = title_basics.tconst;\")\n",
    "for row in c:\n",
    "    print(row)"
   ]
  },
  {
   "cell_type": "code",
   "execution_count": 43,
   "metadata": {},
   "outputs": [
    {
     "output_type": "stream",
     "name": "stdout",
     "text": [
      "(108,)\n"
     ]
    }
   ],
   "source": [
    "#req10.sql\n",
    "#10.Qui a écrit le scénario du film Taxi sorti en 1998 ?\n",
    "c = conn.cursor()\n",
    "c.execute(\"SELECT writers FROM title_writers WHERE tconst=152930 ;\")\n",
    "for row in c:\n",
    "    print(row)"
   ]
  },
  {
   "cell_type": "code",
   "execution_count": 44,
   "metadata": {},
   "outputs": [
    {
     "output_type": "stream",
     "name": "stdout",
     "text": [
      "('12 Angry Men', 685362, 9.0)\n",
      "('The Twilight Zone', 70572, 9.0)\n",
      "('The Godfather', 1608838, 9.2)\n",
      "('The World at War', 21984, 9.2)\n",
      "('The Godfather: Part II', 1123196, 9.0)\n",
      "('Cosmos', 36387, 9.3)\n",
      "('The Marathon Family', 14357, 9.0)\n",
      "('Dekalog', 21758, 9.0)\n",
      "('The Civil War', 13551, 9.0)\n",
      "('Batman: The Animated Series', 86409, 9.0)\n",
      "('The Shawshank Redemption', 2328389, 9.3)\n",
      "('The Sopranos', 297160, 9.2)\n",
      "('The Godfather Trilogy: 1901-1980', 14518, 9.3)\n",
      "('Metal Gear Solid', 10662, 9.6)\n",
      "('Band of Brothers', 371975, 9.4)\n",
      "('The Chaos Class', 37045, 9.3)\n",
      "('The Chaos Class Failed the Class', 21652, 9.0)\n",
      "('Tosun Pasa', 21439, 9.0)\n",
      "('Ramayan', 13589, 9.1)\n",
      "('Max Payne', 13083, 9.2)\n",
      "('The Blue Planet', 34578, 9.0)\n",
      "('Firefly', 242543, 9.0)\n",
      "('The Wire', 282117, 9.3)\n",
      "('Grand Theft Auto: Vice City', 22744, 9.2)\n",
      "('Half-Life 2', 14497, 9.4)\n",
      "('Grand Theft Auto: San Andreas', 34553, 9.4)\n",
      "('Resident Evil 4', 10701, 9.2)\n",
      "('Avatar: The Last Airbender', 243119, 9.2)\n",
      "('The Elder Scrolls IV: Oblivion', 11320, 9.0)\n",
      "('The Dark Knight', 2290098, 9.0)\n",
      "('The Last One: Part 2', 11956, 9.7)\n",
      "('Planet Earth', 166042, 9.4)\n",
      "('Death Note', 230447, 9.0)\n",
      "('Breaking Bad', 1441756, 9.5)\n",
      "('Game of Thrones', 1749444, 9.3)\n",
      "('Pilot', 25121, 9.1)\n",
      "('The Constant', 10689, 9.7)\n",
      "('Blink', 18290, 9.8)\n",
      "('Midnight Sun', 14420, 9.9)\n",
      "('That Day', 12001, 9.9)\n",
      "('Through the Looking Glass', 10012, 9.7)\n",
      "('Deja-vu', 11078, 9.0)\n",
      "('The Travelers', 10316, 9.5)\n",
      "('An Endless Cycle', 11585, 9.6)\n",
      "('Endings and Beginnings', 11791, 9.5)\n",
      "(\"Crazy Handful of Nothin'\", 19366, 9.3)\n",
      "('Fallout 3', 17403, 9.1)\n",
      "('Mass Effect', 16055, 9.2)\n",
      "('Hello, Elliot', 12688, 9.9)\n",
      "('BioShock', 16982, 9.1)\n",
      "('The View from Halfway Down', 10171, 9.9)\n",
      "('Chapter 9: The Marshal', 19445, 9.0)\n",
      "('Call of Duty 4: Modern Warfare', 20379, 9.0)\n",
      "('Portal', 11012, 9.1)\n",
      "('David Attenborough: A Life on Our Planet', 22608, 9.0)\n",
      "(\"Assassin's Creed II\", 20380, 9.1)\n",
      "('Phoenix', 16415, 9.3)\n",
      "('ABQ', 16399, 9.3)\n",
      "('Grilled', 17714, 9.3)\n",
      "('Better Call Saul', 16998, 9.2)\n",
      "('4 Days Out', 16490, 9.2)\n",
      "('Scam 1992: The Harshad Mehta Story', 80677, 9.4)\n",
      "('Life and Death', 10855, 9.4)\n",
      "('Light and Shadow', 10530, 9.3)\n",
      "('Between the Time', 13889, 9.6)\n",
      "('The Paradise', 18349, 9.7)\n",
      "('Batman: Arkham Asylum', 23801, 9.2)\n",
      "('Chapter 13: The Jedi', 22843, 9.5)\n",
      "('Chapter 14: The Tragedy', 16778, 9.3)\n",
      "('Chapter 15: The Believer', 13879, 9.0)\n",
      "('Chapter 16: The Rescue', 40463, 9.9)\n",
      "('Uncharted 2: Among Thieves', 20839, 9.4)\n",
      "('Fullmetal Alchemist: Brotherhood', 116087, 9.1)\n",
      "('The Getaway', 10737, 9.8)\n",
      "('Sherlock', 798488, 9.1)\n",
      "('Red Dead Redemption', 22836, 9.5)\n",
      "('Winter Is Coming', 40383, 9.1)\n",
      "('Life', 37803, 9.1)\n",
      "('Mass Effect 2', 17808, 9.5)\n",
      "('Batman: Arkham City', 26669, 9.4)\n",
      "('Days Gone Bye', 20559, 9.2)\n",
      "('Half Measures', 18801, 9.5)\n",
      "('Full Measure', 21182, 9.7)\n",
      "('Sunset', 15734, 9.3)\n",
      "('One Minute', 19454, 9.6)\n",
      "('Portal 2', 13462, 9.4)\n",
      "('The Great Game', 24898, 9.1)\n",
      "('A Study in Pink', 28298, 9.1)\n",
      "('Box Cutter', 16916, 9.2)\n",
      "('Salud', 19925, 9.6)\n",
      "('Crawl Space', 23089, 9.7)\n",
      "('End Times', 17898, 9.5)\n",
      "('Face Off', 43328, 9.9)\n",
      "('Hermanos', 15817, 9.3)\n",
      "('BioShock Infinite', 17820, 9.2)\n",
      "(\"Uncharted 3: Drake's Deception\", 18245, 9.1)\n",
      "('Better Angels', 11576, 9.1)\n",
      "('Beside the Dying Fire', 13154, 9.2)\n",
      "('Pretty Much Dead Already', 13937, 9.3)\n",
      "('Human Planet', 23600, 9.0)\n",
      "('The Elder Scrolls V: Skyrim', 25922, 9.4)\n",
      "('The Wolf and the Lion', 28579, 9.1)\n",
      "('Leyla and Mecnun', 88003, 9.1)\n",
      "('A Golden Crown', 28277, 9.2)\n",
      "('You Win or You Die', 28786, 9.2)\n",
      "('The Pointy End', 26824, 9.0)\n",
      "('Mass Effect 3', 13899, 9.1)\n",
      "('Fire and Blood', 33194, 9.5)\n",
      "('Baelor', 37832, 9.6)\n",
      "('The Vietnam War', 20018, 9.1)\n",
      "('A Scandal in Belgravia', 35492, 9.5)\n",
      "('The Reichenbach Fall', 34370, 9.7)\n",
      "('The Walking Dead', 10630, 9.2)\n",
      "('Live Free or Die', 19892, 9.3)\n",
      "('Blackwater', 41301, 9.7)\n",
      "('The Old Gods and the New', 24648, 9.1)\n",
      "('Frozen Planet', 26651, 9.0)\n",
      "('Grand Theft Auto V', 49670, 9.5)\n",
      "('Valar Morghulis', 29254, 9.4)\n",
      "('The Last of Us', 50264, 9.7)\n",
      "('The Rains of Castamere', 90163, 9.9)\n",
      "('Kissed by Fire', 24106, 9.0)\n",
      "('Mhysa', 26887, 9.2)\n",
      "('And Now His Watch Is Ended', 32232, 9.6)\n",
      "('Second Sons', 23785, 9.0)\n",
      "('The Empty Hearse', 28173, 9.0)\n",
      "('Killer Within', 12995, 9.3)\n",
      "('Buried', 18751, 9.2)\n",
      "('Confessions', 23041, 9.6)\n",
      "('Rabid Dog', 19590, 9.2)\n",
      "(\"To'hajiilee\", 33024, 9.8)\n",
      "('Ozymandias', 125557, 10.0)\n",
      "('Granite State', 33333, 9.7)\n",
      "('Felina', 88025, 9.9)\n",
      "('Dead Freight', 24349, 9.7)\n",
      "('Buyout', 16785, 9.1)\n",
      "('Say My Name', 21626, 9.6)\n",
      "('Gliding Over All', 22173, 9.6)\n",
      "('Blood Money', 21563, 9.5)\n",
      "('True Detective', 494570, 9.0)\n",
      "('Cosmos: A Spacetime Odyssey', 110080, 9.3)\n",
      "('Africa', 13998, 9.0)\n",
      "('CM101MMXI Fundamentals', 43838, 9.2)\n",
      "('The Long Bright Dark', 18664, 9.0)\n",
      "('Finale', 12119, 9.8)\n",
      "('The Day of the Doctor', 17114, 9.4)\n",
      "('The Sign of Three', 24982, 9.0)\n",
      "('His Last Vow', 27679, 9.3)\n",
      "('Who Goes There', 23226, 9.7)\n",
      "('The Locked Room', 15523, 9.2)\n",
      "('The Secret Fate of All Life', 17131, 9.6)\n",
      "('Haunted Houses', 14261, 9.2)\n",
      "(\"After You've Gone\", 13926, 9.3)\n",
      "('Form and Void', 19772, 9.6)\n",
      "('Two Swords', 30291, 9.1)\n",
      "('The Lion and the Rose', 47405, 9.7)\n",
      "('Rick and Morty', 368886, 9.2)\n",
      "('Too Far Gone', 22386, 9.7)\n",
      "('The Witcher 3: Wild Hunt', 19958, 9.7)\n",
      "('The Mountain and the Viper', 47504, 9.7)\n",
      "('The Watchers on the Wall', 40176, 9.6)\n",
      "('The Children', 39538, 9.7)\n",
      "('Mockingbird', 26560, 9.1)\n",
      "('The Laws of Gods and Men', 44054, 9.7)\n",
      "(\"The Crocodile's Dilemma\", 12034, 9.4)\n",
      "('Mizumono', 15975, 9.9)\n",
      "('A', 13517, 9.2)\n",
      "('No Sanctuary', 23895, 9.6)\n",
      "('The Grove', 14005, 9.2)\n",
      "('Meeseeks and Destroy', 11467, 9.0)\n",
      "('Rick Potion #9', 11236, 9.1)\n",
      "('Close Rick-counters of the Rick Kind', 11761, 9.4)\n",
      "(\"Uncharted 4: A Thief's End\", 21635, 9.5)\n",
      "('Batman: Arkham Knight', 14593, 9.0)\n",
      "('Four Walls and a Roof', 11988, 9.0)\n",
      "('The Lying Detective', 25225, 9.2)\n",
      "('Spend', 10470, 9.0)\n",
      "('Conquer', 14165, 9.3)\n",
      "('Mijo', 12017, 9.0)\n",
      "('Five-O', 13663, 9.5)\n",
      "('The Dance of Dragons', 39359, 9.5)\n",
      "('The Gift', 26244, 9.0)\n",
      "('Hardhome', 89665, 9.9)\n",
      "(\"Mother's Mercy\", 38138, 9.1)\n",
      "('Pimento', 10470, 9.5)\n",
      "('White Christmas', 51347, 9.1)\n",
      "('The Climb', 11149, 9.6)\n",
      "('Home', 43293, 9.4)\n",
      "('The Wrath of the Lamb', 11956, 9.8)\n",
      "('If-Then-Else', 11042, 9.9)\n",
      "('Out of Time', 13396, 9.7)\n",
      "('Fast Enough', 11541, 9.6)\n",
      "('The Filthy Frank Show', 32111, 9.5)\n",
      "('Book of the Stranger', 33400, 9.1)\n",
      "('The Door', 65222, 9.7)\n",
      "('Battle of the Bastards', 189342, 9.9)\n",
      "('The Winds of Winter', 132075, 9.9)\n",
      "('JSS', 13476, 9.3)\n",
      "('No Way Out', 24722, 9.7)\n",
      "('Chapter Four: The Body', 16566, 9.0)\n",
      "('Chapter Seven: The Bathtub', 16211, 9.1)\n",
      "('Chapter Eight: The Upside Down', 19053, 9.4)\n",
      "(\"Trompe L'Oeil\", 18864, 9.5)\n",
      "('eps1.0_hellofriend.mov', 13956, 9.3)\n",
      "('Thank You', 14401, 9.3)\n",
      "('eps1.7_wh1ter0se.m4v', 10912, 9.5)\n",
      "('TVF Pitchers', 51986, 9.1)\n",
      "('Not Tomorrow Yet', 10378, 9.0)\n",
      "('Total Rickall', 13917, 9.6)\n",
      "('The Ricks Must Be Crazy', 11153, 9.3)\n",
      "('The Wedding Squanchers', 11254, 9.4)\n",
      "('Detroit: Become Human', 11555, 9.2)\n",
      "(\"The Day Will Come When You Won't Be\", 36138, 9.2)\n",
      "('The Rickshank Rickdemption', 17217, 9.6)\n",
      "('Pickle Rick', 14693, 9.3)\n",
      "('The Ricklantis Mixup', 25442, 9.8)\n",
      "('The Well-Tempered Clavier', 17273, 9.4)\n",
      "('The Bicameral Mind', 27782, 9.7)\n",
      "('Mirror Game', 22832, 9.1)\n",
      "('Planet Earth II', 95266, 9.5)\n",
      "('Chicanery', 12447, 9.7)\n",
      "(\"The Queen's Justice\", 42745, 9.2)\n",
      "('The Spoils of War', 81023, 9.8)\n",
      "('Beyond the Wall', 59442, 9.0)\n",
      "('The Dragon and the Wolf', 59065, 9.4)\n",
      "('Spider-Man', 13213, 9.2)\n",
      "('God of War', 17167, 9.6)\n",
      "('Chapter Six: The Spy', 14822, 9.2)\n",
      "('Chapter Eight: The Mind Flayer', 16210, 9.3)\n",
      "('Chapter Nine: The Gate', 18221, 9.4)\n",
      "('Red Dead Redemption II', 22017, 9.7)\n",
      "('All His Angels', 10571, 9.6)\n",
      "('The Riddle of the Sphinx', 12470, 9.0)\n",
      "('Kiksuya', 16174, 9.2)\n",
      "('Uno: The Movie', 10098, 9.5)\n",
      "('Blue Planet II', 32686, 9.3)\n",
      "('Alpha and Omega', 10127, 9.2)\n",
      "('Chernobyl', 526451, 9.4)\n",
      "('Edge of Tomorty: Rick Die Rickpeat', 10385, 9.0)\n",
      "('Koombiyo', 16307, 9.6)\n",
      "('Peranbu', 12388, 9.0)\n",
      "('Chapter Four: The Sauna Test', 14810, 9.0)\n",
      "('Chapter Eight: The Battle of Starcourt', 21888, 9.3)\n",
      "('Persona', 29918, 9.1)\n",
      "('Flames', 19569, 9.1)\n",
      "('The Bent-Neck Lady', 10980, 9.5)\n",
      "('407 Proxy Authentication Required', 19914, 9.9)\n",
      "('1:23:45', 48161, 9.5)\n",
      "('What Comes After', 11806, 9.2)\n",
      "('A Devil of My Word', 10985, 9.8)\n",
      "('Free Churro', 10706, 9.8)\n",
      "('La deriva', 10578, 9.4)\n",
      "('The Last Dance', 76260, 9.2)\n",
      "('Please Remain Calm', 45552, 9.6)\n",
      "('Yeh Meri Family', 19244, 9.1)\n",
      "('Bagman', 12335, 9.7)\n",
      "('Bad Choice Road', 11707, 9.8)\n",
      "('Chapter 3: The Sin', 23151, 9.1)\n",
      "('Chapter 7: The Reckoning', 18719, 9.1)\n",
      "('Chapter 8: Redemption', 20337, 9.3)\n",
      "('Open Wide, O Earth', 42750, 9.6)\n",
      "('The Happiness of All Mankind', 40246, 9.5)\n",
      "('Vichnaya Pamyat', 52655, 9.9)\n",
      "('Our Planet', 31692, 9.3)\n",
      "('Kota Factory', 26883, 9.0)\n",
      "('The Chosen', 11684, 9.7)\n",
      "('Pew News', 14377, 9.0)\n",
      "('Perfect Game', 14753, 9.9)\n",
      "('Hero', 34502, 9.9)\n"
     ]
    }
   ],
   "source": [
    "#req12.sql\n",
    "#12.Quels sont les titres des films notés plus de 9 sur 10 avec plus de 10 000 votes ?\n",
    "c = conn.cursor()\n",
    "c.execute(\"SELECT primaryTitle,numVotes,averageRating FROM title_ratings JOIN title_basics ON title_ratings.tconst = title_basics.tconst WHERE averageRating>=9 AND numVotes>=10000;\")\n",
    "for row in c:\n",
    "    print(row)"
   ]
  },
  {
   "cell_type": "code",
   "execution_count": 45,
   "metadata": {},
   "outputs": [
    {
     "output_type": "stream",
     "name": "stdout",
     "text": [
      "(7073, 'Husband Material', 'Romance')\n(6261, 'Ikimizin Yerine', 'Romance')\n(5092, 'Christmas Wedding Planner', 'Romance')\n(4855, 'OK Kanmani', 'Romance')\n(2979, 'Zindagi Gulzar Hai', 'Romance')\n"
     ]
    }
   ],
   "source": [
    "#requ13.sql\n",
    "#13.Quelle sont les 5 comédies romantiques les mieux notées ?\n",
    "c = conn.cursor()\n",
    "c.execute(\"SELECT numVotes,primaryTitle,genres FROM title_ratings JOIN title_basics ON title_ratings.tconst = title_basics.tconst WHERE genres='Romance' ORDER BY numVotes DESC LIMIT 5;\")\n",
    "for row in c:\n",
    "    print(row)"
   ]
  },
  {
   "cell_type": "code",
   "execution_count": 46,
   "metadata": {},
   "outputs": [
    {
     "output_type": "stream",
     "name": "stdout",
     "text": [
      "(1332, 'The Legend of Muay Thai: 9 Satra', 'Animation')\n(1220, 'Magyar népmesék', 'Animation')\n(1097, '38 popugaev', 'Animation')\n(1043, 'One Punch Man - Wanpanman: Road to Hero', 'Animation')\n"
     ]
    }
   ],
   "source": [
    "#requ13.sql\n",
    "#14.Quels sont les 10 films d’animation ayant reçu plus de 1000 votes les mieux notés ?\n",
    "c = conn.cursor()\n",
    "c.execute(\"SELECT numVotes,primaryTitle,genres FROM title_ratings JOIN title_basics ON title_ratings.tconst = title_basics.tconst WHERE genres='Animation' AND numVotes>1000 ORDER BY numVotes DESC LIMIT 10;\")\n",
    "for row in c:\n",
    "    print(row)"
   ]
  },
  {
   "cell_type": "code",
   "execution_count": 47,
   "metadata": {},
   "outputs": [
    {
     "output_type": "stream",
     "name": "stdout",
     "text": [
      "(1074,)\n"
     ]
    }
   ],
   "source": [
    "#requ13.sql\n",
    "#15.Combien de films durent plus de 3 heures ?\n",
    "c = conn.cursor()\n",
    "c.execute(\"SELECT COUNT(primaryTitle) FROM title_basics WHERE runtimeMinutes>=180;\")\n",
    "for row in c:\n",
    "    print(row)"
   ]
  },
  {
   "cell_type": "code",
   "execution_count": 48,
   "metadata": {},
   "outputs": [],
   "source": [
    "conn.close()"
   ]
  },
  {
   "cell_type": "code",
   "execution_count": null,
   "metadata": {},
   "outputs": [],
   "source": []
  }
 ]
}